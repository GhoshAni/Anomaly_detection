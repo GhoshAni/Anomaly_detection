{
 "cells": [
  {
   "cell_type": "code",
   "execution_count": 1,
   "metadata": {},
   "outputs": [
    {
     "data": {
      "text/plain": [
       "'/Users/apple/Documents/gitcode/Anomaly_detection'"
      ]
     },
     "execution_count": 1,
     "metadata": {},
     "output_type": "execute_result"
    }
   ],
   "source": [
    "import numpy as np\n",
    "import sklearn as sk\n",
    "import os\n",
    "import seaborn as sns\n",
    "import pandas as pd\n",
    "import matplotlib.pyplot as plt\n",
    "os.getcwd()"
   ]
  },
  {
   "cell_type": "code",
   "execution_count": 2,
   "metadata": {},
   "outputs": [
    {
     "name": "stdout",
     "output_type": "stream",
     "text": [
      "/Users/apple/Downloads/data/Electricity_Theft_Data.csv\n",
      "(9957, 367)\n"
     ]
    },
    {
     "data": {
      "text/html": [
       "<div>\n",
       "<style scoped>\n",
       "    .dataframe tbody tr th:only-of-type {\n",
       "        vertical-align: middle;\n",
       "    }\n",
       "\n",
       "    .dataframe tbody tr th {\n",
       "        vertical-align: top;\n",
       "    }\n",
       "\n",
       "    .dataframe thead th {\n",
       "        text-align: right;\n",
       "    }\n",
       "</style>\n",
       "<table border=\"1\" class=\"dataframe\">\n",
       "  <thead>\n",
       "    <tr style=\"text-align: right;\">\n",
       "      <th></th>\n",
       "      <th>CONS_NO</th>\n",
       "      <th>01/01/2015</th>\n",
       "      <th>02/01/2015</th>\n",
       "      <th>03/01/2015</th>\n",
       "      <th>04/01/2015</th>\n",
       "      <th>05/01/2015</th>\n",
       "      <th>06/01/2015</th>\n",
       "      <th>07/01/2015</th>\n",
       "      <th>08/01/2015</th>\n",
       "      <th>09/01/2015</th>\n",
       "      <th>...</th>\n",
       "      <th>23/12/2015</th>\n",
       "      <th>24/12/2015</th>\n",
       "      <th>25/12/2015</th>\n",
       "      <th>26/12/2015</th>\n",
       "      <th>27/12/2015</th>\n",
       "      <th>28/12/2015</th>\n",
       "      <th>29/12/2015</th>\n",
       "      <th>30/12/2015</th>\n",
       "      <th>31/12/2015</th>\n",
       "      <th>CHK_STATE</th>\n",
       "    </tr>\n",
       "  </thead>\n",
       "  <tbody>\n",
       "    <tr>\n",
       "      <th>0</th>\n",
       "      <td>NaN</td>\n",
       "      <td>1.00</td>\n",
       "      <td>2.00</td>\n",
       "      <td>3.00</td>\n",
       "      <td>4.00</td>\n",
       "      <td>5.00</td>\n",
       "      <td>6.00</td>\n",
       "      <td>7.00</td>\n",
       "      <td>8.00</td>\n",
       "      <td>9.00</td>\n",
       "      <td>...</td>\n",
       "      <td>357.00</td>\n",
       "      <td>358.00</td>\n",
       "      <td>359.00</td>\n",
       "      <td>360.00</td>\n",
       "      <td>361.00</td>\n",
       "      <td>362.00</td>\n",
       "      <td>363.00</td>\n",
       "      <td>364.00</td>\n",
       "      <td>365.00</td>\n",
       "      <td>NaN</td>\n",
       "    </tr>\n",
       "    <tr>\n",
       "      <th>1</th>\n",
       "      <td>8.546920e+09</td>\n",
       "      <td>0.00</td>\n",
       "      <td>0.00</td>\n",
       "      <td>0.00</td>\n",
       "      <td>0.00</td>\n",
       "      <td>0.00</td>\n",
       "      <td>0.00</td>\n",
       "      <td>0.00</td>\n",
       "      <td>0.00</td>\n",
       "      <td>0.00</td>\n",
       "      <td>...</td>\n",
       "      <td>0.00</td>\n",
       "      <td>0.00</td>\n",
       "      <td>0.00</td>\n",
       "      <td>0.00</td>\n",
       "      <td>0.00</td>\n",
       "      <td>0.00</td>\n",
       "      <td>0.00</td>\n",
       "      <td>0.00</td>\n",
       "      <td>0.00</td>\n",
       "      <td>1.0</td>\n",
       "    </tr>\n",
       "    <tr>\n",
       "      <th>2</th>\n",
       "      <td>6.177183e+08</td>\n",
       "      <td>1.12</td>\n",
       "      <td>1.73</td>\n",
       "      <td>3.34</td>\n",
       "      <td>2.77</td>\n",
       "      <td>3.50</td>\n",
       "      <td>2.86</td>\n",
       "      <td>1.25</td>\n",
       "      <td>1.12</td>\n",
       "      <td>1.51</td>\n",
       "      <td>...</td>\n",
       "      <td>17.31</td>\n",
       "      <td>15.95</td>\n",
       "      <td>17.00</td>\n",
       "      <td>32.05</td>\n",
       "      <td>28.72</td>\n",
       "      <td>31.11</td>\n",
       "      <td>28.47</td>\n",
       "      <td>16.70</td>\n",
       "      <td>14.96</td>\n",
       "      <td>1.0</td>\n",
       "    </tr>\n",
       "    <tr>\n",
       "      <th>3</th>\n",
       "      <td>7.222500e+09</td>\n",
       "      <td>NaN</td>\n",
       "      <td>NaN</td>\n",
       "      <td>NaN</td>\n",
       "      <td>NaN</td>\n",
       "      <td>NaN</td>\n",
       "      <td>NaN</td>\n",
       "      <td>NaN</td>\n",
       "      <td>NaN</td>\n",
       "      <td>NaN</td>\n",
       "      <td>...</td>\n",
       "      <td>0.00</td>\n",
       "      <td>0.00</td>\n",
       "      <td>0.00</td>\n",
       "      <td>0.00</td>\n",
       "      <td>0.00</td>\n",
       "      <td>0.00</td>\n",
       "      <td>0.00</td>\n",
       "      <td>0.00</td>\n",
       "      <td>0.00</td>\n",
       "      <td>1.0</td>\n",
       "    </tr>\n",
       "    <tr>\n",
       "      <th>4</th>\n",
       "      <td>7.134080e+09</td>\n",
       "      <td>1.58</td>\n",
       "      <td>3.65</td>\n",
       "      <td>2.54</td>\n",
       "      <td>4.28</td>\n",
       "      <td>1.62</td>\n",
       "      <td>1.39</td>\n",
       "      <td>2.33</td>\n",
       "      <td>1.78</td>\n",
       "      <td>1.80</td>\n",
       "      <td>...</td>\n",
       "      <td>4.17</td>\n",
       "      <td>7.95</td>\n",
       "      <td>8.84</td>\n",
       "      <td>2.20</td>\n",
       "      <td>2.91</td>\n",
       "      <td>10.52</td>\n",
       "      <td>7.98</td>\n",
       "      <td>3.68</td>\n",
       "      <td>1.41</td>\n",
       "      <td>1.0</td>\n",
       "    </tr>\n",
       "  </tbody>\n",
       "</table>\n",
       "<p>5 rows × 367 columns</p>\n",
       "</div>"
      ],
      "text/plain": [
       "        CONS_NO  01/01/2015  02/01/2015  03/01/2015  04/01/2015  05/01/2015  \\\n",
       "0           NaN        1.00        2.00        3.00        4.00        5.00   \n",
       "1  8.546920e+09        0.00        0.00        0.00        0.00        0.00   \n",
       "2  6.177183e+08        1.12        1.73        3.34        2.77        3.50   \n",
       "3  7.222500e+09         NaN         NaN         NaN         NaN         NaN   \n",
       "4  7.134080e+09        1.58        3.65        2.54        4.28        1.62   \n",
       "\n",
       "   06/01/2015  07/01/2015  08/01/2015  09/01/2015  ...  23/12/2015  \\\n",
       "0        6.00        7.00        8.00        9.00  ...      357.00   \n",
       "1        0.00        0.00        0.00        0.00  ...        0.00   \n",
       "2        2.86        1.25        1.12        1.51  ...       17.31   \n",
       "3         NaN         NaN         NaN         NaN  ...        0.00   \n",
       "4        1.39        2.33        1.78        1.80  ...        4.17   \n",
       "\n",
       "   24/12/2015  25/12/2015  26/12/2015  27/12/2015  28/12/2015  29/12/2015  \\\n",
       "0      358.00      359.00      360.00      361.00      362.00      363.00   \n",
       "1        0.00        0.00        0.00        0.00        0.00        0.00   \n",
       "2       15.95       17.00       32.05       28.72       31.11       28.47   \n",
       "3        0.00        0.00        0.00        0.00        0.00        0.00   \n",
       "4        7.95        8.84        2.20        2.91       10.52        7.98   \n",
       "\n",
       "   30/12/2015  31/12/2015  CHK_STATE  \n",
       "0      364.00      365.00        NaN  \n",
       "1        0.00        0.00        1.0  \n",
       "2       16.70       14.96        1.0  \n",
       "3        0.00        0.00        1.0  \n",
       "4        3.68        1.41        1.0  \n",
       "\n",
       "[5 rows x 367 columns]"
      ]
     },
     "execution_count": 2,
     "metadata": {},
     "output_type": "execute_result"
    }
   ],
   "source": [
    "data_path = '/Users/apple/Downloads/data/'\n",
    "data = 'Electricity_Theft_Data.csv'\n",
    "print(os.path.join(data_path, data))\n",
    "os.chdir(os.path.join(data_path))\n",
    "os.getcwd()\n",
    "\n",
    "# read data \n",
    "theft_df = pd.read_csv(os.path.join(data_path, data))\n",
    "print(theft_df.shape)\n",
    "theft_df.head()\n"
   ]
  },
  {
   "cell_type": "code",
   "execution_count": 3,
   "metadata": {},
   "outputs": [
    {
     "data": {
      "text/html": [
       "<div>\n",
       "<style scoped>\n",
       "    .dataframe tbody tr th:only-of-type {\n",
       "        vertical-align: middle;\n",
       "    }\n",
       "\n",
       "    .dataframe tbody tr th {\n",
       "        vertical-align: top;\n",
       "    }\n",
       "\n",
       "    .dataframe thead th {\n",
       "        text-align: right;\n",
       "    }\n",
       "</style>\n",
       "<table border=\"1\" class=\"dataframe\">\n",
       "  <thead>\n",
       "    <tr style=\"text-align: right;\">\n",
       "      <th></th>\n",
       "      <th>0</th>\n",
       "    </tr>\n",
       "  </thead>\n",
       "  <tbody>\n",
       "    <tr>\n",
       "      <th>17/10/2015</th>\n",
       "      <td>9956</td>\n",
       "    </tr>\n",
       "    <tr>\n",
       "      <th>20/10/2015</th>\n",
       "      <td>9956</td>\n",
       "    </tr>\n",
       "    <tr>\n",
       "      <th>10/10/2015</th>\n",
       "      <td>9956</td>\n",
       "    </tr>\n",
       "    <tr>\n",
       "      <th>11/10/2015</th>\n",
       "      <td>9956</td>\n",
       "    </tr>\n",
       "    <tr>\n",
       "      <th>12/10/2015</th>\n",
       "      <td>9956</td>\n",
       "    </tr>\n",
       "  </tbody>\n",
       "</table>\n",
       "</div>"
      ],
      "text/plain": [
       "               0\n",
       "17/10/2015  9956\n",
       "20/10/2015  9956\n",
       "10/10/2015  9956\n",
       "11/10/2015  9956\n",
       "12/10/2015  9956"
      ]
     },
     "execution_count": 3,
     "metadata": {},
     "output_type": "execute_result"
    }
   ],
   "source": [
    "pd.DataFrame(theft_df.isnull().sum().sort_values(ascending= False)).head(5)\n"
   ]
  },
  {
   "cell_type": "code",
   "execution_count": 4,
   "metadata": {},
   "outputs": [
    {
     "data": {
      "text/plain": [
       "Text(0.5, 1.0, 'Quantifying missing data')"
      ]
     },
     "execution_count": 4,
     "metadata": {},
     "output_type": "execute_result"
    },
    {
     "data": {
      "image/png": "[encoded data removed]",
      "text/plain": [
       "<Figure size 1000x600 with 1 Axes>"
      ]
     },
     "metadata": {},
     "output_type": "display_data"
    }
   ],
   "source": [
    "# the percentage of missing values visualization\n",
    "theft_df.isnull().mean().plot.bar(figsize = (10,6))\n",
    "plt.ylabel('Percentage of missing values')\n",
    "plt.xlabel('Variables')\n",
    "plt.title('Quantifying missing data')"
   ]
  },
  {
   "cell_type": "code",
   "execution_count": 5,
   "metadata": {},
   "outputs": [],
   "source": [
    "transformed_df = pd.melt(frame= theft_df, id_vars=[\"CONS_NO\", \"CHK_STATE\"], var_name= \"date\" , value_name= \"consumption\")\n",
    "transformed_df = transformed_df.dropna(subset= ['CONS_NO'])\n",
    "transformed_df[\"CONS_NO\"] = transformed_df[\"CONS_NO\"].astype(int)\n",
    "transformed_df[\"CHK_STATE\"] = transformed_df[\"CHK_STATE\"].astype(int)\n",
    "transformed_df[\"date\"] = pd.to_datetime(transformed_df[\"date\"], infer_datetime_format=True, dayfirst= True)\n"
   ]
  },
  {
   "cell_type": "code",
   "execution_count": 15,
   "metadata": {},
   "outputs": [
    {
     "name": "stdout",
     "output_type": "stream",
     "text": [
      "CONS_NO\n",
      "CHK_STATE\n",
      "date\n",
      "consumption\n"
     ]
    }
   ],
   "source": [
    "for i in transformed_df.columns:\n",
    "    print(i)"
   ]
  },
  {
   "cell_type": "code",
   "execution_count": 18,
   "metadata": {},
   "outputs": [
    {
     "data": {
      "text/html": [
       "<div>\n",
       "<style scoped>\n",
       "    .dataframe tbody tr th:only-of-type {\n",
       "        vertical-align: middle;\n",
       "    }\n",
       "\n",
       "    .dataframe tbody tr th {\n",
       "        vertical-align: top;\n",
       "    }\n",
       "\n",
       "    .dataframe thead th {\n",
       "        text-align: right;\n",
       "    }\n",
       "</style>\n",
       "<table border=\"1\" class=\"dataframe\">\n",
       "  <thead>\n",
       "    <tr style=\"text-align: right;\">\n",
       "      <th></th>\n",
       "      <th>CONS_NO</th>\n",
       "      <th>CHK_STATE</th>\n",
       "      <th>date</th>\n",
       "      <th>consumption</th>\n",
       "    </tr>\n",
       "  </thead>\n",
       "  <tbody>\n",
       "    <tr>\n",
       "      <th>3</th>\n",
       "      <td>7222500051</td>\n",
       "      <td>1</td>\n",
       "      <td>2015-01-01</td>\n",
       "      <td>NaN</td>\n",
       "    </tr>\n",
       "    <tr>\n",
       "      <th>9960</th>\n",
       "      <td>7222500051</td>\n",
       "      <td>1</td>\n",
       "      <td>2015-01-02</td>\n",
       "      <td>NaN</td>\n",
       "    </tr>\n",
       "    <tr>\n",
       "      <th>19917</th>\n",
       "      <td>7222500051</td>\n",
       "      <td>1</td>\n",
       "      <td>2015-01-03</td>\n",
       "      <td>NaN</td>\n",
       "    </tr>\n",
       "    <tr>\n",
       "      <th>29874</th>\n",
       "      <td>7222500051</td>\n",
       "      <td>1</td>\n",
       "      <td>2015-01-04</td>\n",
       "      <td>NaN</td>\n",
       "    </tr>\n",
       "    <tr>\n",
       "      <th>39831</th>\n",
       "      <td>7222500051</td>\n",
       "      <td>1</td>\n",
       "      <td>2015-01-05</td>\n",
       "      <td>NaN</td>\n",
       "    </tr>\n",
       "    <tr>\n",
       "      <th>...</th>\n",
       "      <td>...</td>\n",
       "      <td>...</td>\n",
       "      <td>...</td>\n",
       "      <td>...</td>\n",
       "    </tr>\n",
       "    <tr>\n",
       "      <th>3584523</th>\n",
       "      <td>7222500051</td>\n",
       "      <td>1</td>\n",
       "      <td>2015-12-27</td>\n",
       "      <td>0.0</td>\n",
       "    </tr>\n",
       "    <tr>\n",
       "      <th>3594480</th>\n",
       "      <td>7222500051</td>\n",
       "      <td>1</td>\n",
       "      <td>2015-12-28</td>\n",
       "      <td>0.0</td>\n",
       "    </tr>\n",
       "    <tr>\n",
       "      <th>3604437</th>\n",
       "      <td>7222500051</td>\n",
       "      <td>1</td>\n",
       "      <td>2015-12-29</td>\n",
       "      <td>0.0</td>\n",
       "    </tr>\n",
       "    <tr>\n",
       "      <th>3614394</th>\n",
       "      <td>7222500051</td>\n",
       "      <td>1</td>\n",
       "      <td>2015-12-30</td>\n",
       "      <td>0.0</td>\n",
       "    </tr>\n",
       "    <tr>\n",
       "      <th>3624351</th>\n",
       "      <td>7222500051</td>\n",
       "      <td>1</td>\n",
       "      <td>2015-12-31</td>\n",
       "      <td>0.0</td>\n",
       "    </tr>\n",
       "  </tbody>\n",
       "</table>\n",
       "<p>365 rows × 4 columns</p>\n",
       "</div>"
      ],
      "text/plain": [
       "            CONS_NO  CHK_STATE       date  consumption\n",
       "3        7222500051          1 2015-01-01          NaN\n",
       "9960     7222500051          1 2015-01-02          NaN\n",
       "19917    7222500051          1 2015-01-03          NaN\n",
       "29874    7222500051          1 2015-01-04          NaN\n",
       "39831    7222500051          1 2015-01-05          NaN\n",
       "...             ...        ...        ...          ...\n",
       "3584523  7222500051          1 2015-12-27          0.0\n",
       "3594480  7222500051          1 2015-12-28          0.0\n",
       "3604437  7222500051          1 2015-12-29          0.0\n",
       "3614394  7222500051          1 2015-12-30          0.0\n",
       "3624351  7222500051          1 2015-12-31          0.0\n",
       "\n",
       "[365 rows x 4 columns]"
      ]
     },
     "execution_count": 18,
     "metadata": {},
     "output_type": "execute_result"
    }
   ],
   "source": [
    "transformed_df[transformed_df['CONS_NO'] == 7222500051]"
   ]
  },
  {
   "cell_type": "code",
   "execution_count": 28,
   "metadata": {},
   "outputs": [
    {
     "data": {
      "image/png": "[encoded data removed]",
      "text/plain": [
       "<Figure size 500x500 with 1 Axes>"
      ]
     },
     "metadata": {},
     "output_type": "display_data"
    }
   ],
   "source": [
    "col_feature = ['consumption']\n",
    "\n",
    "for col in col_feature:\n",
    "    transformed_df.boxplot(col_feature, figsize=(5,5),grid = True)\n",
    "    plt.title('max_min_range of consumption')\n",
    "plt.show()"
   ]
  },
  {
   "cell_type": "code",
   "execution_count": 30,
   "metadata": {},
   "outputs": [
    {
     "data": {
      "text/plain": [
       "9956"
      ]
     },
     "execution_count": 30,
     "metadata": {},
     "output_type": "execute_result"
    }
   ],
   "source": [
    "transformed_df['CONS_NO'].nunique()"
   ]
  },
  {
   "cell_type": "code",
   "execution_count": 31,
   "metadata": {},
   "outputs": [
    {
     "data": {
      "text/plain": [
       "(3633940, 4)"
      ]
     },
     "execution_count": 31,
     "metadata": {},
     "output_type": "execute_result"
    }
   ],
   "source": [
    "transformed_df.shape"
   ]
  },
  {
   "cell_type": "code",
   "execution_count": null,
   "metadata": {},
   "outputs": [],
   "source": []
  },
  {
   "cell_type": "code",
   "execution_count": null,
   "metadata": {},
   "outputs": [],
   "source": []
  },
  {
   "cell_type": "code",
   "execution_count": null,
   "metadata": {},
   "outputs": [],
   "source": []
  }
 ],
 "metadata": {
  "kernelspec": {
   "display_name": "Python 3",
   "language": "python",
   "name": "python3"
  },
  "language_info": {
   "codemirror_mode": {
    "name": "ipython",
    "version": 3
   },
   "file_extension": ".py",
   "mimetype": "text/x-python",
   "name": "python",
   "nbconvert_exporter": "python",
   "pygments_lexer": "ipython3",
   "version": "3.9.13"
  },
  "orig_nbformat": 4
 },
 "nbformat": 4,
 "nbformat_minor": 2
}
