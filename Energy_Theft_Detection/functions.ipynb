{
 "cells": [
  {
   "cell_type": "code",
   "execution_count": 1,
   "metadata": {},
   "outputs": [],
   "source": [
    "import numpy as np\n",
    "import sklearn as sk\n",
    "import os\n",
    "import seaborn as sns\n",
    "import pandas as pd\n",
    "import matplotlib.pyplot as plt\n",
    "import warnings\n",
    "warnings.filterwarnings('ignore')"
   ]
  },
  {
   "cell_type": "code",
   "execution_count": 4,
   "metadata": {},
   "outputs": [],
   "source": [
    "def preprocessing_data():\n",
    "    data_path = '/Users/apple/Downloads/data/'\n",
    "    data = 'Electricity_Theft_Data.csv'\n",
    "    #os.chdir(os.path.join(data_path))\n",
    "    theft_df = pd.read_csv(os.path.join(data_path, data))\n",
    "    theft_df = theft_df.dropna(thresh=180) # delete accounts where at least 6 months of energy data not available\n",
    "    theft_df = theft_df.dropna(subset='CONS_NO') ## delete where account number is null\n",
    "    # transform the data frame from column to rows\n",
    "    transformed_df = pd.melt(frame= theft_df, id_vars=[\"CONS_NO\", \"CHK_STATE\"], var_name= \"date\" , value_name= \"consumption\")\n",
    "\n",
    "    # change the column data types and extract month, year and week\n",
    "    transformed_df['CONS_NO'] = transformed_df[\"CONS_NO\"].astype(int)\n",
    "    transformed_df['CHK_STATE'] = transformed_df[\"CHK_STATE\"].astype(int)\n",
    "    transformed_df['date'] = pd.to_datetime(transformed_df['date'], infer_datetime_format= True, dayfirst= True)\n",
    "    transformed_df['month'] = transformed_df['date'].dt.month\n",
    "    transformed_df['year'] = transformed_df['date'].dt.year\n",
    "    transformed_df['week'] = transformed_df['date'].dt.isocalendar().week\n",
    "\n",
    "    # aggregate the median value of consumption by consumer and year impute NAN values with the imputed values\n",
    "    transformed_df['Consumption_imputed_by_year'] = transformed_df.groupby(['CONS_NO', 'year'])['consumption'].transform(lambda x: x.fillna(x.median()))\n",
    "    df_consumption_week = transformed_df[['CONS_NO', 'week', 'Consumption_imputed_by_year', 'CHK_STATE']]\n",
    "    # the column week is modified \n",
    "    df_consumption_week.loc[:, 'week'] = df_consumption_week['week'].apply(lambda x: f'week_{str(x)}')\n",
    "    # the data frame is pivoted back to its original shape\n",
    "    df_consumption = pd.DataFrame(pd.pivot_table(data= df_consumption_week, index = ['CONS_NO', 'CHK_STATE'], columns= 'week',   values= 'Consumption_imputed_by_year').reset_index())\n",
    "    return df_consumption\n",
    "    "
   ]
  },
  {
   "cell_type": "code",
   "execution_count": 7,
   "metadata": {},
   "outputs": [],
   "source": [
    "df_consumption = preprocessing_data()"
   ]
  },
  {
   "cell_type": "code",
   "execution_count": null,
   "metadata": {},
   "outputs": [],
   "source": []
  },
  {
   "cell_type": "code",
   "execution_count": null,
   "metadata": {},
   "outputs": [],
   "source": []
  }
 ],
 "metadata": {
  "kernelspec": {
   "display_name": "base",
   "language": "python",
   "name": "python3"
  },
  "language_info": {
   "codemirror_mode": {
    "name": "ipython",
    "version": 3
   },
   "file_extension": ".py",
   "mimetype": "text/x-python",
   "name": "python",
   "nbconvert_exporter": "python",
   "pygments_lexer": "ipython3",
   "version": "3.9.13"
  }
 },
 "nbformat": 4,
 "nbformat_minor": 2
}
